{
 "cells": [
  {
   "cell_type": "code",
   "execution_count": 1,
   "metadata": {},
   "outputs": [
    {
     "data": {
      "text/html": [
       "<div>\n",
       "<style scoped>\n",
       "    .dataframe tbody tr th:only-of-type {\n",
       "        vertical-align: middle;\n",
       "    }\n",
       "\n",
       "    .dataframe tbody tr th {\n",
       "        vertical-align: top;\n",
       "    }\n",
       "\n",
       "    .dataframe thead th {\n",
       "        text-align: right;\n",
       "    }\n",
       "</style>\n",
       "<table border=\"1\" class=\"dataframe\">\n",
       "  <thead>\n",
       "    <tr style=\"text-align: right;\">\n",
       "      <th></th>\n",
       "      <th>Date</th>\n",
       "      <th>Open</th>\n",
       "      <th>High</th>\n",
       "      <th>Low</th>\n",
       "      <th>Volume</th>\n",
       "      <th>Close</th>\n",
       "    </tr>\n",
       "  </thead>\n",
       "  <tbody>\n",
       "    <tr>\n",
       "      <th>0</th>\n",
       "      <td>2015-12-16</td>\n",
       "      <td>120</td>\n",
       "      <td>123</td>\n",
       "      <td>118</td>\n",
       "      <td>13181000</td>\n",
       "      <td>123</td>\n",
       "    </tr>\n",
       "    <tr>\n",
       "      <th>1</th>\n",
       "      <td>2015-12-17</td>\n",
       "      <td>124</td>\n",
       "      <td>126</td>\n",
       "      <td>122</td>\n",
       "      <td>17284900</td>\n",
       "      <td>123</td>\n",
       "    </tr>\n",
       "    <tr>\n",
       "      <th>2</th>\n",
       "      <td>2015-12-18</td>\n",
       "      <td>121</td>\n",
       "      <td>122</td>\n",
       "      <td>118</td>\n",
       "      <td>17948100</td>\n",
       "      <td>118</td>\n",
       "    </tr>\n",
       "    <tr>\n",
       "      <th>3</th>\n",
       "      <td>2015-12-21</td>\n",
       "      <td>120</td>\n",
       "      <td>120</td>\n",
       "      <td>116</td>\n",
       "      <td>11670000</td>\n",
       "      <td>117</td>\n",
       "    </tr>\n",
       "    <tr>\n",
       "      <th>4</th>\n",
       "      <td>2015-12-22</td>\n",
       "      <td>117</td>\n",
       "      <td>117</td>\n",
       "      <td>115</td>\n",
       "      <td>9689000</td>\n",
       "      <td>116</td>\n",
       "    </tr>\n",
       "  </tbody>\n",
       "</table>\n",
       "</div>"
      ],
      "text/plain": [
       "         Date  Open  High  Low    Volume  Close\n",
       "0  2015-12-16   120   123  118  13181000    123\n",
       "1  2015-12-17   124   126  122  17284900    123\n",
       "2  2015-12-18   121   122  118  17948100    118\n",
       "3  2015-12-21   120   120  116  11670000    117\n",
       "4  2015-12-22   117   117  115   9689000    116"
      ]
     },
     "execution_count": 1,
     "metadata": {},
     "output_type": "execute_result"
    }
   ],
   "source": [
    "import pandas as pd\n",
    "\n",
    "data = pd.read_csv(\"Netflix.csv\")\n",
    "data.head()"
   ]
  },
  {
   "cell_type": "code",
   "execution_count": 2,
   "metadata": {},
   "outputs": [
    {
     "name": "stdout",
     "output_type": "stream",
     "text": [
      "<class 'pandas.core.frame.DataFrame'>\n",
      "RangeIndex: 967 entries, 0 to 966\n",
      "Data columns (total 6 columns):\n",
      " #   Column  Non-Null Count  Dtype \n",
      "---  ------  --------------  ----- \n",
      " 0   Date    967 non-null    object\n",
      " 1   Open    967 non-null    int64 \n",
      " 2   High    967 non-null    int64 \n",
      " 3   Low     967 non-null    int64 \n",
      " 4   Volume  967 non-null    int64 \n",
      " 5   Close   967 non-null    int64 \n",
      "dtypes: int64(5), object(1)\n",
      "memory usage: 45.5+ KB\n"
     ]
    }
   ],
   "source": [
    "data.info()"
   ]
  },
  {
   "cell_type": "code",
   "execution_count": 3,
   "metadata": {},
   "outputs": [
    {
     "data": {
      "image/png": "[encoded data removed]",
      "text/plain": [
       "<Figure size 432x288 with 4 Axes>"
      ]
     },
     "metadata": {
      "needs_background": "light"
     },
     "output_type": "display_data"
    }
   ],
   "source": [
    "import matplotlib.pyplot as plt\n",
    "\n",
    "data_used = data.iloc[:, 1:4]\n",
    "data_used[\"Close\"] = data[\"Close\"]\n",
    "hist = data_used.hist()\n",
    "plt.show()"
   ]
  },
  {
   "cell_type": "markdown",
   "metadata": {},
   "source": [
    "데이터의 Open, High, Low, Close를 분석한 결과 값의 범위가 100부터 400까지 넓게 형성되어 있는 것을 확인할 수 있다. 이때 출력값의 범위가 커지면 오차의 범위가 커져 가중치 수렴에 안 좋은 영향을 미칠 수 있기 때문에, 원활한 학습을 위해 값의 범위를 0부터 1까지로 정규화할 것이다."
   ]
  },
  {
   "cell_type": "code",
   "execution_count": 4,
   "metadata": {},
   "outputs": [],
   "source": [
    "import numpy as np\n",
    "\n",
    "from torch.utils.data.dataset import Dataset\n",
    "\n",
    "class Netflix(Dataset):\n",
    "    def __init__(self):\n",
    "        self.csv = pd.read_csv(\"Netflix.csv\")\n",
    "\n",
    "        self.data = self.csv.iloc[:, 1:4].values\n",
    "        self.data = self.data / np.max(self.data)\n",
    "        \n",
    "        self.label = data[\"Close\"].values\n",
    "        self.label = self.label / np.max(self.label)\n",
    "    \n",
    "    def __len__(self):\n",
    "        return len(self.data) - 30\n",
    "    \n",
    "    def __getitem__(self, i):\n",
    "        data = self.data[i:i+30]\n",
    "        label = self.label[i+30]\n",
    "        \n",
    "        return data, label"
   ]
  },
  {
   "cell_type": "markdown",
   "metadata": {},
   "source": [
    "self.data는 입력 데이터로 Open(개장가), High(최고가), Low(최저가)를 의미하며, self.label은 타겟 데이터로 Close(종가)를 의미한다. 각 수치를 np.max로 나눠줌으로써 min-max normalization을 진행하였다. 또한 30일치 주가 정보를 묶어서 data로 받고, 그 이후 31일차 종가를 label로 설정하였다."
   ]
  },
  {
   "cell_type": "code",
   "execution_count": 5,
   "metadata": {},
   "outputs": [],
   "source": [
    "import torch\n",
    "import torch.nn as nn\n",
    "\n",
    "class RNN(nn.Module):\n",
    "    def __init__(self):\n",
    "        super(RNN, self).__init__()\n",
    "        \n",
    "        self.rnn = nn.RNN(input_size=3, hidden_size=8, num_layers=5, batch_first=True)\n",
    "        \n",
    "        self.fc1 = nn.Linear(in_features=240, out_features=64)\n",
    "        self.fc2 = nn.Linear(in_features=64, out_features=1)\n",
    "        \n",
    "        self.relu = nn.ReLU()\n",
    "    \n",
    "    def forward(self, x, h0):\n",
    "        x, hn = self.rnn(x, h0)\n",
    "        \n",
    "        x = torch.reshape(x, (x.shape[0], -1))\n",
    "        \n",
    "        x = self.fc1(x)\n",
    "        x = self.relu(x)\n",
    "        x = self.fc2(x)\n",
    "        \n",
    "        x = torch.flatten(x)\n",
    "        \n",
    "        return x"
   ]
  },
  {
   "cell_type": "markdown",
   "metadata": {},
   "source": [
    "RNN에서 input_size=3은 특징 개수(개장가, 최고가, 최저가)를 의미하고, hidden_size는 RNN층에서 각 시점에서의 차원을 의미한다. num_layers는 얼마나 깊은 수준의 RNN을 실행할지 정해주는 척도이다."
   ]
  },
  {
   "cell_type": "code",
   "execution_count": 6,
   "metadata": {},
   "outputs": [],
   "source": [
    "import tqdm\n",
    "\n",
    "from torch.optim.adam import Adam\n",
    "from torch.utils.data.dataloader import DataLoader\n",
    "\n",
    "device = \"cuda\" if torch.cuda.is_available() else \"cpu\"\n",
    "\n",
    "model = RNN().to(device)\n",
    "dataset = Netflix()"
   ]
  },
  {
   "cell_type": "code",
   "execution_count": 7,
   "metadata": {},
   "outputs": [],
   "source": [
    "loader = DataLoader(dataset, batch_size=32)"
   ]
  },
  {
   "cell_type": "code",
   "execution_count": 8,
   "metadata": {},
   "outputs": [],
   "source": [
    "optim = Adam(params=model.parameters(), lr=0.0001)"
   ]
  },
  {
   "cell_type": "code",
   "execution_count": 9,
   "metadata": {},
   "outputs": [
    {
     "name": "stderr",
     "output_type": "stream",
     "text": [
      "epoch0 loss:0.0687783807516098: 100%|██████████| 30/30 [00:00<00:00, 69.07it/s] \n",
      "epoch1 loss:0.019038045778870583: 100%|██████████| 30/30 [00:00<00:00, 80.07it/s] \n",
      "epoch2 loss:0.011994201689958572: 100%|██████████| 30/30 [00:00<00:00, 83.08it/s]\n",
      "epoch3 loss:0.011488874442875385: 100%|██████████| 30/30 [00:00<00:00, 83.60it/s]\n",
      "epoch4 loss:0.011479870416224003: 100%|██████████| 30/30 [00:00<00:00, 83.33it/s]\n",
      "epoch5 loss:0.011310207657516003: 100%|██████████| 30/30 [00:00<00:00, 83.12it/s]\n",
      "epoch6 loss:0.011054863221943378: 100%|██████████| 30/30 [00:00<00:00, 83.02it/s]\n",
      "epoch7 loss:0.010742993094027042: 100%|██████████| 30/30 [00:00<00:00, 83.48it/s]\n",
      "epoch8 loss:0.010358325205743313: 100%|██████████| 30/30 [00:00<00:00, 83.77it/s]\n",
      "epoch9 loss:0.00986994244158268: 100%|██████████| 30/30 [00:00<00:00, 83.62it/s] \n",
      "epoch10 loss:0.00937969796359539: 100%|██████████| 30/30 [00:00<00:00, 82.77it/s] \n",
      "epoch11 loss:0.0075973207131028175: 100%|██████████| 30/30 [00:00<00:00, 83.06it/s]\n",
      "epoch12 loss:0.006087957881391048: 100%|██████████| 30/30 [00:00<00:00, 83.72it/s]\n",
      "epoch13 loss:0.004737954121083021: 100%|██████████| 30/30 [00:00<00:00, 84.02it/s] \n",
      "epoch14 loss:0.0027371838223189116: 100%|██████████| 30/30 [00:00<00:00, 83.41it/s]\n",
      "epoch15 loss:0.00041058872011490166: 100%|██████████| 30/30 [00:00<00:00, 84.04it/s]\n",
      "epoch16 loss:0.0019699588883668184: 100%|██████████| 30/30 [00:00<00:00, 83.67it/s]\n",
      "epoch17 loss:0.004598497413098812: 100%|██████████| 30/30 [00:00<00:00, 83.18it/s] \n",
      "epoch18 loss:0.004669821355491877: 100%|██████████| 30/30 [00:00<00:00, 83.52it/s] \n",
      "epoch19 loss:0.005052823107689619: 100%|██████████| 30/30 [00:00<00:00, 83.71it/s] \n",
      "epoch20 loss:0.004469556268304586: 100%|██████████| 30/30 [00:00<00:00, 83.51it/s] \n",
      "epoch21 loss:0.004516334272921085: 100%|██████████| 30/30 [00:00<00:00, 83.82it/s] \n",
      "epoch22 loss:0.0044739446602761745: 100%|██████████| 30/30 [00:00<00:00, 83.67it/s]\n",
      "epoch23 loss:0.0044237286783754826: 100%|██████████| 30/30 [00:00<00:00, 82.33it/s]\n",
      "epoch24 loss:0.004385457839816809: 100%|██████████| 30/30 [00:00<00:00, 72.36it/s] \n",
      "epoch25 loss:0.004340078216046095: 100%|██████████| 30/30 [00:00<00:00, 71.60it/s] \n",
      "epoch26 loss:0.004281315021216869: 100%|██████████| 30/30 [00:00<00:00, 72.81it/s] \n",
      "epoch27 loss:0.004240705166012049: 100%|██████████| 30/30 [00:00<00:00, 68.66it/s] \n",
      "epoch28 loss:0.004155796952545643: 100%|██████████| 30/30 [00:00<00:00, 66.74it/s]  \n",
      "epoch29 loss:0.004122147336602211: 100%|██████████| 30/30 [00:00<00:00, 67.66it/s]  \n",
      "epoch30 loss:0.004051043651998043: 100%|██████████| 30/30 [00:00<00:00, 62.91it/s]  \n",
      "epoch31 loss:0.004003281705081463: 100%|██████████| 30/30 [00:00<00:00, 63.07it/s]  \n",
      "epoch32 loss:0.003953868988901377: 100%|██████████| 30/30 [00:00<00:00, 61.40it/s] \n",
      "epoch33 loss:0.0039125061593949795: 100%|██████████| 30/30 [00:00<00:00, 62.09it/s] \n",
      "epoch34 loss:0.0038831999991089106: 100%|██████████| 30/30 [00:00<00:00, 63.03it/s] \n",
      "epoch35 loss:0.003862570272758603: 100%|██████████| 30/30 [00:00<00:00, 61.51it/s]  \n",
      "epoch36 loss:0.003825537860393524: 100%|██████████| 30/30 [00:00<00:00, 62.10it/s]  \n",
      "epoch37 loss:0.0038034203462302685: 100%|██████████| 30/30 [00:00<00:00, 62.32it/s] \n",
      "epoch38 loss:0.0037797673139721155: 100%|██████████| 30/30 [00:00<00:00, 61.03it/s] \n",
      "epoch39 loss:0.0037517216987907887: 100%|██████████| 30/30 [00:00<00:00, 61.41it/s] \n",
      "epoch40 loss:0.0037365970201790333: 100%|██████████| 30/30 [00:00<00:00, 63.59it/s] \n",
      "epoch41 loss:0.003703335067257285: 100%|██████████| 30/30 [00:00<00:00, 63.51it/s]  \n",
      "epoch42 loss:0.003681208472698927: 100%|██████████| 30/30 [00:00<00:00, 62.68it/s]  \n",
      "epoch43 loss:0.0036655734293162823: 100%|██████████| 30/30 [00:00<00:00, 63.58it/s] \n",
      "epoch44 loss:0.0036251090932637453: 100%|██████████| 30/30 [00:00<00:00, 64.41it/s] \n",
      "epoch45 loss:0.003604782512411475: 100%|██████████| 30/30 [00:00<00:00, 62.06it/s]  \n",
      "epoch46 loss:0.0035750875249505043: 100%|██████████| 30/30 [00:00<00:00, 62.00it/s] \n",
      "epoch47 loss:0.0035494277253746986: 100%|██████████| 30/30 [00:00<00:00, 62.95it/s] \n",
      "epoch48 loss:0.0035215190146118402: 100%|██████████| 30/30 [00:00<00:00, 63.33it/s] \n",
      "epoch49 loss:0.0034945623483508825: 100%|██████████| 30/30 [00:00<00:00, 65.08it/s]\n",
      "epoch50 loss:0.0034790048375725746: 100%|██████████| 30/30 [00:00<00:00, 63.69it/s] \n",
      "epoch51 loss:0.0034486891236156225: 100%|██████████| 30/30 [00:00<00:00, 64.86it/s]\n",
      "epoch52 loss:0.003422660054638982: 100%|██████████| 30/30 [00:00<00:00, 63.90it/s]  \n",
      "epoch53 loss:0.0033899841364473104: 100%|██████████| 30/30 [00:00<00:00, 64.78it/s]\n",
      "epoch54 loss:0.0033787235151976347: 100%|██████████| 30/30 [00:00<00:00, 63.21it/s] \n",
      "epoch55 loss:0.0033364458940923214: 100%|██████████| 30/30 [00:00<00:00, 63.43it/s]\n",
      "epoch56 loss:0.003313765162602067: 100%|██████████| 30/30 [00:00<00:00, 64.02it/s]  \n",
      "epoch57 loss:0.0032943098340183496: 100%|██████████| 30/30 [00:00<00:00, 64.95it/s] \n",
      "epoch58 loss:0.003248282941058278: 100%|██████████| 30/30 [00:00<00:00, 63.18it/s] \n",
      "epoch59 loss:0.003219936043024063: 100%|██████████| 30/30 [00:00<00:00, 61.71it/s]  \n",
      "epoch60 loss:0.003188788890838623: 100%|██████████| 30/30 [00:00<00:00, 59.47it/s]  \n",
      "epoch61 loss:0.0031718157697468996: 100%|██████████| 30/30 [00:00<00:00, 73.39it/s]\n",
      "epoch62 loss:0.003144278656691313: 100%|██████████| 30/30 [00:00<00:00, 72.73it/s] \n",
      "epoch63 loss:0.00310362852178514: 100%|██████████| 30/30 [00:00<00:00, 74.36it/s]  \n",
      "epoch64 loss:0.0030882435385137796: 100%|██████████| 30/30 [00:00<00:00, 74.05it/s]\n",
      "epoch65 loss:0.0030602256301790476: 100%|██████████| 30/30 [00:00<00:00, 75.12it/s]\n",
      "epoch66 loss:0.0030061115976423025: 100%|██████████| 30/30 [00:00<00:00, 75.17it/s]\n",
      "epoch67 loss:0.0029926460701972246: 100%|██████████| 30/30 [00:00<00:00, 75.20it/s]\n",
      "epoch68 loss:0.0029644316527992487: 100%|██████████| 30/30 [00:00<00:00, 74.85it/s]\n",
      "epoch69 loss:0.00292990799061954: 100%|██████████| 30/30 [00:00<00:00, 75.11it/s]  \n",
      "epoch70 loss:0.0028998542111366987: 100%|██████████| 30/30 [00:00<00:00, 79.76it/s]\n",
      "epoch71 loss:0.002858568914234638: 100%|██████████| 30/30 [00:00<00:00, 79.73it/s] \n",
      "epoch72 loss:0.00283532845787704: 100%|██████████| 30/30 [00:00<00:00, 75.83it/s]  \n",
      "epoch73 loss:0.002801271388307214: 100%|██████████| 30/30 [00:00<00:00, 75.96it/s] \n",
      "epoch74 loss:0.0027664315421134233: 100%|██████████| 30/30 [00:00<00:00, 76.11it/s]\n",
      "epoch75 loss:0.0027376243378967047: 100%|██████████| 30/30 [00:00<00:00, 73.90it/s]\n",
      "epoch76 loss:0.002696537645533681: 100%|██████████| 30/30 [00:00<00:00, 73.57it/s] \n",
      "epoch77 loss:0.002669617300853133: 100%|██████████| 30/30 [00:00<00:00, 74.67it/s] \n",
      "epoch78 loss:0.002632609335705638: 100%|██████████| 30/30 [00:00<00:00, 73.36it/s] \n",
      "epoch79 loss:0.0025877223815768957: 100%|██████████| 30/30 [00:00<00:00, 74.07it/s]\n",
      "epoch80 loss:0.002573451492935419: 100%|██████████| 30/30 [00:00<00:00, 72.59it/s] \n",
      "epoch81 loss:0.0025179609656333923: 100%|██████████| 30/30 [00:00<00:00, 72.34it/s]\n",
      "epoch82 loss:0.002503769937902689: 100%|██████████| 30/30 [00:00<00:00, 73.18it/s] \n",
      "epoch83 loss:0.0024883090518414974: 100%|██████████| 30/30 [00:00<00:00, 74.13it/s]\n",
      "epoch84 loss:0.0030787161085754633: 100%|██████████| 30/30 [00:00<00:00, 73.71it/s]\n",
      "epoch85 loss:0.0027080781292170286: 100%|██████████| 30/30 [00:00<00:00, 73.13it/s]\n",
      "epoch86 loss:0.0024794486816972494: 100%|██████████| 30/30 [00:00<00:00, 74.70it/s]\n",
      "epoch87 loss:0.002357753226533532: 100%|██████████| 30/30 [00:00<00:00, 74.12it/s] \n",
      "epoch88 loss:0.0023983896244317293: 100%|██████████| 30/30 [00:00<00:00, 73.69it/s]\n",
      "epoch89 loss:0.0023984748404473066: 100%|██████████| 30/30 [00:00<00:00, 73.87it/s]\n",
      "epoch90 loss:0.002376941032707691: 100%|██████████| 30/30 [00:00<00:00, 73.77it/s] \n",
      "epoch91 loss:0.002290446311235428: 100%|██████████| 30/30 [00:00<00:00, 72.48it/s] \n",
      "epoch92 loss:0.002213442465290427: 100%|██████████| 30/30 [00:00<00:00, 75.05it/s] \n",
      "epoch93 loss:0.002160234609618783: 100%|██████████| 30/30 [00:00<00:00, 74.70it/s] \n",
      "epoch94 loss:0.002134098904207349: 100%|██████████| 30/30 [00:00<00:00, 74.77it/s] \n",
      "epoch95 loss:0.002102593658491969: 100%|██████████| 30/30 [00:00<00:00, 73.58it/s] \n",
      "epoch96 loss:0.0020754963625222445: 100%|██████████| 30/30 [00:00<00:00, 73.19it/s]\n",
      "epoch97 loss:0.0020137012470513582: 100%|██████████| 30/30 [00:00<00:00, 74.29it/s]\n",
      "epoch98 loss:0.0019726634491235018: 100%|██████████| 30/30 [00:00<00:00, 72.75it/s]\n",
      "epoch99 loss:0.0019178943475708365: 100%|██████████| 30/30 [00:00<00:00, 73.75it/s]\n",
      "epoch100 loss:0.0018889043712988496: 100%|██████████| 30/30 [00:00<00:00, 73.39it/s]\n",
      "epoch101 loss:0.001845605089329183: 100%|██████████| 30/30 [00:00<00:00, 74.63it/s] \n",
      "epoch102 loss:0.0018202306237071753: 100%|██████████| 30/30 [00:00<00:00, 76.36it/s]\n",
      "epoch103 loss:0.001753281569108367: 100%|██████████| 30/30 [00:00<00:00, 79.52it/s] \n",
      "epoch104 loss:0.001726861926726997: 100%|██████████| 30/30 [00:00<00:00, 79.09it/s] \n",
      "epoch105 loss:0.0016727347392588854: 100%|██████████| 30/30 [00:00<00:00, 77.84it/s]\n",
      "epoch106 loss:0.001643371069803834: 100%|██████████| 30/30 [00:00<00:00, 77.14it/s] \n",
      "epoch107 loss:0.0016000026371330023: 100%|██████████| 30/30 [00:00<00:00, 77.56it/s]\n",
      "epoch108 loss:0.001567161874845624: 100%|██████████| 30/30 [00:00<00:00, 76.80it/s] \n",
      "epoch109 loss:0.001518363831564784: 100%|██████████| 30/30 [00:00<00:00, 77.53it/s] \n",
      "epoch110 loss:0.00148528884164989: 100%|██████████| 30/30 [00:00<00:00, 77.34it/s]  \n",
      "epoch111 loss:0.0014382709050551057: 100%|██████████| 30/30 [00:00<00:00, 77.97it/s]\n",
      "epoch112 loss:0.0014078436652198434: 100%|██████████| 30/30 [00:00<00:00, 76.90it/s]\n",
      "epoch113 loss:0.0013578691286966205: 100%|██████████| 30/30 [00:00<00:00, 78.28it/s]\n",
      "epoch114 loss:0.0013316669501364231: 100%|██████████| 30/30 [00:00<00:00, 77.19it/s]\n",
      "epoch115 loss:0.0012879825662821531: 100%|██████████| 30/30 [00:00<00:00, 73.36it/s]\n",
      "epoch116 loss:0.0012723921099677682: 100%|██████████| 30/30 [00:00<00:00, 70.30it/s]\n",
      "epoch117 loss:0.0012184821534901857: 100%|██████████| 30/30 [00:00<00:00, 70.10it/s]\n",
      "epoch118 loss:0.0011872949544340372: 100%|██████████| 30/30 [00:00<00:00, 71.32it/s]\n",
      "epoch119 loss:0.001136187231168151: 100%|██████████| 30/30 [00:00<00:00, 72.98it/s] \n",
      "epoch120 loss:0.001120689557865262: 100%|██████████| 30/30 [00:00<00:00, 71.90it/s] \n",
      "epoch121 loss:0.0010726306354627013: 100%|██████████| 30/30 [00:00<00:00, 71.90it/s]\n",
      "epoch122 loss:0.0010496187023818493: 100%|██████████| 30/30 [00:00<00:00, 71.66it/s]\n",
      "epoch123 loss:0.0010094866156578064: 100%|██████████| 30/30 [00:00<00:00, 71.91it/s]\n",
      "epoch124 loss:0.000979097792878747: 100%|██████████| 30/30 [00:00<00:00, 73.16it/s] \n",
      "epoch125 loss:0.0009435539250262082: 100%|██████████| 30/30 [00:00<00:00, 73.18it/s]\n",
      "epoch126 loss:0.0009124114294536412: 100%|██████████| 30/30 [00:00<00:00, 73.02it/s]\n",
      "epoch127 loss:0.0008755945018492639: 100%|██████████| 30/30 [00:00<00:00, 72.27it/s]\n",
      "epoch128 loss:0.0008487673476338387: 100%|██████████| 30/30 [00:00<00:00, 72.48it/s]\n",
      "epoch129 loss:0.0008200200391001999: 100%|██████████| 30/30 [00:00<00:00, 73.00it/s]\n",
      "epoch130 loss:0.0007937040063552558: 100%|██████████| 30/30 [00:00<00:00, 72.94it/s]\n",
      "epoch131 loss:0.0007623706478625536: 100%|██████████| 30/30 [00:00<00:00, 72.48it/s]\n",
      "epoch132 loss:0.0006929053924977779: 100%|██████████| 30/30 [00:00<00:00, 72.94it/s]\n",
      "epoch133 loss:0.0007464520167559385: 100%|██████████| 30/30 [00:00<00:00, 72.28it/s]\n",
      "epoch134 loss:0.0006574096623808146: 100%|██████████| 30/30 [00:00<00:00, 72.72it/s]\n",
      "epoch135 loss:0.0006822963478043675: 100%|██████████| 30/30 [00:00<00:00, 73.09it/s]\n",
      "epoch136 loss:0.0006213387241587043: 100%|██████████| 30/30 [00:00<00:00, 72.73it/s]\n",
      "epoch137 loss:0.0006001496803946793: 100%|██████████| 30/30 [00:00<00:00, 73.27it/s]\n",
      "epoch138 loss:0.0005685629439540207: 100%|██████████| 30/30 [00:00<00:00, 73.23it/s]\n",
      "epoch139 loss:0.0005497017409652472: 100%|██████████| 30/30 [00:00<00:00, 73.21it/s]\n",
      "epoch140 loss:0.0005429240991361439: 100%|██████████| 30/30 [00:00<00:00, 73.10it/s]\n",
      "epoch141 loss:0.0005286753294058144: 100%|██████████| 30/30 [00:00<00:00, 73.22it/s]\n",
      "epoch142 loss:0.0005176718696020544: 100%|██████████| 30/30 [00:00<00:00, 70.97it/s]\n",
      "epoch143 loss:0.0004939644713886082: 100%|██████████| 30/30 [00:00<00:00, 67.80it/s]\n",
      "epoch144 loss:0.00047951372107490897: 100%|██████████| 30/30 [00:00<00:00, 66.01it/s]\n",
      "epoch145 loss:0.0004618717939592898: 100%|██████████| 30/30 [00:00<00:00, 65.17it/s] \n",
      "epoch146 loss:0.0004490265273489058: 100%|██████████| 30/30 [00:00<00:00, 65.09it/s] \n",
      "epoch147 loss:0.00044007267570123076: 100%|██████████| 30/30 [00:00<00:00, 65.18it/s]\n",
      "epoch148 loss:0.00043359631672501564: 100%|██████████| 30/30 [00:00<00:00, 65.07it/s]\n",
      "epoch149 loss:0.00042658147867769003: 100%|██████████| 30/30 [00:00<00:00, 65.00it/s]\n",
      "epoch150 loss:0.000416504277382046: 100%|██████████| 30/30 [00:00<00:00, 65.06it/s]  \n",
      "epoch151 loss:0.0004121832607779652: 100%|██████████| 30/30 [00:00<00:00, 65.08it/s] \n",
      "epoch152 loss:0.00040723360143601894: 100%|██████████| 30/30 [00:00<00:00, 65.04it/s]\n",
      "epoch153 loss:0.0004018155741505325: 100%|██████████| 30/30 [00:00<00:00, 65.06it/s]\n",
      "epoch154 loss:0.0003990700060967356: 100%|██████████| 30/30 [00:00<00:00, 65.71it/s] \n",
      "epoch155 loss:0.0003962665796279907: 100%|██████████| 30/30 [00:00<00:00, 65.04it/s] \n",
      "epoch156 loss:0.00039484756416641176: 100%|██████████| 30/30 [00:00<00:00, 66.12it/s]\n",
      "epoch157 loss:0.00039367718272842467: 100%|██████████| 30/30 [00:00<00:00, 65.19it/s]\n",
      "epoch158 loss:0.0003929416125174612: 100%|██████████| 30/30 [00:00<00:00, 65.64it/s] \n",
      "epoch159 loss:0.00039339970680885017: 100%|██████████| 30/30 [00:00<00:00, 64.18it/s]\n",
      "epoch160 loss:0.0003936215944122523: 100%|██████████| 30/30 [00:00<00:00, 65.16it/s]\n",
      "epoch161 loss:0.00039587984792888165: 100%|██████████| 30/30 [00:00<00:00, 62.36it/s]\n",
      "epoch162 loss:0.0003966453077737242: 100%|██████████| 30/30 [00:00<00:00, 61.44it/s]\n",
      "epoch163 loss:0.0004001411434728652: 100%|██████████| 30/30 [00:00<00:00, 64.81it/s] \n",
      "epoch164 loss:0.00040208810241892934: 100%|██████████| 30/30 [00:00<00:00, 64.55it/s]\n",
      "epoch165 loss:0.0003855384129565209: 100%|██████████| 30/30 [00:00<00:00, 63.78it/s] \n",
      "epoch166 loss:0.0003916060086339712: 100%|██████████| 30/30 [00:00<00:00, 63.42it/s] \n",
      "epoch167 loss:0.00038050496368668973: 100%|██████████| 30/30 [00:00<00:00, 65.43it/s]\n",
      "epoch168 loss:0.0003904395562130958: 100%|██████████| 30/30 [00:00<00:00, 64.49it/s]\n",
      "epoch169 loss:0.00041064165998250246: 100%|██████████| 30/30 [00:00<00:00, 65.65it/s]\n",
      "epoch170 loss:0.0004619513056240976: 100%|██████████| 30/30 [00:00<00:00, 64.99it/s]\n",
      "epoch171 loss:0.0005244459607638419: 100%|██████████| 30/30 [00:00<00:00, 65.73it/s]\n",
      "epoch172 loss:0.0005489022587426007: 100%|██████████| 30/30 [00:00<00:00, 65.25it/s] \n",
      "epoch173 loss:0.000513385166414082: 100%|██████████| 30/30 [00:00<00:00, 65.72it/s]  \n",
      "epoch174 loss:0.0004308451316319406: 100%|██████████| 30/30 [00:00<00:00, 64.65it/s] \n",
      "epoch175 loss:0.0003839371202047914: 100%|██████████| 30/30 [00:00<00:00, 64.28it/s] \n",
      "epoch176 loss:0.000375995907234028: 100%|██████████| 30/30 [00:00<00:00, 62.56it/s]  \n",
      "epoch177 loss:0.00038108573062345386: 100%|██████████| 30/30 [00:00<00:00, 63.56it/s]\n",
      "epoch178 loss:0.0004066826368216425: 100%|██████████| 30/30 [00:00<00:00, 64.07it/s]\n",
      "epoch179 loss:0.00046537703019566834: 100%|██████████| 30/30 [00:00<00:00, 63.38it/s]\n",
      "epoch180 loss:0.0005557544063776731: 100%|██████████| 30/30 [00:00<00:00, 62.82it/s] \n",
      "epoch181 loss:0.0006375644006766379: 100%|██████████| 30/30 [00:00<00:00, 64.17it/s] \n",
      "epoch182 loss:0.0006362112471833825: 100%|██████████| 30/30 [00:00<00:00, 63.01it/s] \n",
      "epoch183 loss:0.0005247575463727117: 100%|██████████| 30/30 [00:00<00:00, 64.54it/s] \n",
      "epoch184 loss:0.00040647113928571343: 100%|██████████| 30/30 [00:00<00:00, 64.15it/s]\n",
      "epoch185 loss:0.0003659892827272415: 100%|██████████| 30/30 [00:00<00:00, 64.30it/s] \n",
      "epoch186 loss:0.0003641124058049172: 100%|██████████| 30/30 [00:00<00:00, 63.80it/s]\n",
      "epoch187 loss:0.000374600786017254: 100%|██████████| 30/30 [00:00<00:00, 64.54it/s]  \n",
      "epoch188 loss:0.0004178549279458821: 100%|██████████| 30/30 [00:00<00:00, 65.26it/s] \n",
      "epoch189 loss:0.0005146709154359996: 100%|██████████| 30/30 [00:00<00:00, 64.50it/s] \n",
      "epoch190 loss:0.0006548964884132147: 100%|██████████| 30/30 [00:00<00:00, 63.42it/s]\n",
      "epoch191 loss:0.0007669010083191097: 100%|██████████| 30/30 [00:00<00:00, 66.07it/s] \n",
      "epoch192 loss:0.0007132666651159525: 100%|██████████| 30/30 [00:00<00:00, 66.31it/s] \n",
      "epoch193 loss:0.0005052067572250962: 100%|██████████| 30/30 [00:00<00:00, 66.03it/s] \n",
      "epoch194 loss:0.00037504101055674255: 100%|██████████| 30/30 [00:00<00:00, 65.01it/s]\n",
      "epoch195 loss:0.00035133271012455225: 100%|██████████| 30/30 [00:00<00:00, 66.10it/s]\n",
      "epoch196 loss:0.0003522438055370003: 100%|██████████| 30/30 [00:00<00:00, 66.49it/s] \n",
      "epoch197 loss:0.0003676619380712509: 100%|██████████| 30/30 [00:00<00:00, 65.42it/s] \n",
      "epoch198 loss:0.00042514069355092943: 100%|██████████| 30/30 [00:00<00:00, 71.22it/s]\n",
      "epoch199 loss:0.0005603056051768363: 100%|██████████| 30/30 [00:00<00:00, 72.86it/s] \n"
     ]
    }
   ],
   "source": [
    "for epoch in range(200):\n",
    "    iterator = tqdm.tqdm(loader)\n",
    "    for data, label in iterator:\n",
    "        optim.zero_grad()\n",
    "        \n",
    "        h0 = torch.zeros(5, data.shape[0], 8).to(device)\n",
    "        \n",
    "        pred = model(data.type(torch.FloatTensor).to(device), h0)\n",
    "        \n",
    "        loss = nn.MSELoss()(pred, label.type(torch.FloatTensor).to(device))\n",
    "        loss.backward()\n",
    "        optim.step()\n",
    "        \n",
    "        iterator.set_description(f\"epoch{epoch} loss:{loss.item()}\")\n",
    "        \n",
    "torch.save(model.state_dict(), \"./rnn.pth\")"
   ]
  },
  {
   "cell_type": "code",
   "execution_count": 10,
   "metadata": {},
   "outputs": [
    {
     "data": {
      "text/plain": [
       "0.0013032390270382166"
      ]
     },
     "execution_count": 10,
     "metadata": {},
     "output_type": "execute_result"
    }
   ],
   "source": [
    "import matplotlib.pyplot as plt\n",
    "\n",
    "loader = DataLoader(dataset, batch_size=1)\n",
    "\n",
    "preds = []\n",
    "total_loss = 0\n",
    "\n",
    "with torch.no_grad():\n",
    "    model.load_state_dict(torch.load(\"rnn.pth\", map_location=device))\n",
    "    \n",
    "    for data, label in loader:\n",
    "        h0 = torch.zeros(5, data.shape[0], 8).to(device)\n",
    "        \n",
    "        pred = model(data.type(torch.FloatTensor).to(device), h0)\n",
    "        preds.append(pred.item())\n",
    "        \n",
    "        loss = nn.MSELoss()(pred, label.type(torch.FloatTensor).to(device))\n",
    "        total_loss += loss/len(loader)\n",
    "\n",
    "total_loss.item()"
   ]
  },
  {
   "cell_type": "code",
   "execution_count": 11,
   "metadata": {},
   "outputs": [
    {
     "data": {
      "image/png": "[encoded data removed]",
      "text/plain": [
       "<Figure size 432x288 with 1 Axes>"
      ]
     },
     "metadata": {
      "needs_background": "light"
     },
     "output_type": "display_data"
    }
   ],
   "source": [
    "plt.plot(preds, label=\"prediction\")\n",
    "plt.plot(dataset.label[30:], label=\"actual\")\n",
    "plt.legend()\n",
    "plt.show()"
   ]
  },
  {
   "cell_type": "markdown",
   "metadata": {},
   "source": [
    "RNN으로 예측한 값을 그래프로 확인해본 결과 실제 값과의 오차가 거의 없음을 확인할 수 있다."
   ]
  }
 ],
 "metadata": {
  "kernelspec": {
   "display_name": "Python 3",
   "language": "python",
   "name": "python3"
  },
  "language_info": {
   "codemirror_mode": {
    "name": "ipython",
    "version": 3
   },
   "file_extension": ".py",
   "mimetype": "text/x-python",
   "name": "python",
   "nbconvert_exporter": "python",
   "pygments_lexer": "ipython3",
   "version": "3.6.8"
  }
 },
 "nbformat": 4,
 "nbformat_minor": 2
}
